{
 "cells": [
  {
   "cell_type": "code",
   "execution_count": 2,
   "metadata": {},
   "outputs": [],
   "source": [
    "# Import packages\n",
    "\n",
    "import pandas as pd\n",
    "import requests\n"
   ]
  },
  {
   "cell_type": "code",
   "execution_count": 33,
   "metadata": {
    "scrolled": true
   },
   "outputs": [
    {
     "name": "stdout",
     "output_type": "stream",
     "text": [
      "<class 'pandas.core.frame.DataFrame'>\n",
      "RangeIndex: 17 entries, 0 to 16\n",
      "Data columns (total 3 columns):\n",
      "datetime    17 non-null object\n",
      "filename    17 non-null object\n",
      "URL         17 non-null object\n",
      "dtypes: object(3)\n",
      "memory usage: 488.0+ bytes\n",
      "None\n",
      "              datetime                                      filename  \\\n",
      "0  2019-04-01 01:30:00  SMAP_L4_SM_gph_20190401T013000_Vv4030_001.h5   \n",
      "1  2019-08-30 01:30:00  SMAP_L4_SM_gph_20190830T013000_Vv4030_001.h5   \n",
      "2  2019-08-30 04:30:00  SMAP_L4_SM_gph_20190830T043000_Vv4030_001.h5   \n",
      "3  2019-08-30 07:30:00  SMAP_L4_SM_gph_20190830T073000_Vv4030_001.h5   \n",
      "4  2019-08-30 10:30:00  SMAP_L4_SM_gph_20190830T103000_Vv4030_001.h5   \n",
      "\n",
      "                                                 URL  \n",
      "0  https://n5eil01u.ecs.nsidc.org/SMAP/SPL4SMGP.0...  \n",
      "1  https://n5eil01u.ecs.nsidc.org/SMAP/SPL4SMGP.0...  \n",
      "2  https://n5eil01u.ecs.nsidc.org/SMAP/SPL4SMGP.0...  \n",
      "3  https://n5eil01u.ecs.nsidc.org/SMAP/SPL4SMGP.0...  \n",
      "4  https://n5eil01u.ecs.nsidc.org/SMAP/SPL4SMGP.0...  \n"
     ]
    }
   ],
   "source": [
    "# Read Excel spreadsheet of missing files (missing ~= needed)\n",
    "\n",
    "MF = pd.read_csv(\"Last_Needed_Files.csv\")\n",
    "print(MF.info())\n",
    "print(MF.head())\n"
   ]
  },
  {
   "cell_type": "code",
   "execution_count": 34,
   "metadata": {},
   "outputs": [],
   "source": [
    "# Make list of URLs/filenames\n",
    "\n",
    "URLs = list(MF['URL'])\n",
    "filenames = list(MF['filename'])\n"
   ]
  },
  {
   "cell_type": "code",
   "execution_count": 35,
   "metadata": {},
   "outputs": [],
   "source": [
    "# Make batch\n",
    "\n",
    "URL_batch = URLs[0:100]\n"
   ]
  },
  {
   "cell_type": "code",
   "execution_count": 36,
   "metadata": {
    "scrolled": false
   },
   "outputs": [
    {
     "name": "stdout",
     "output_type": "stream",
     "text": [
      "URL for file 0:\n",
      "https://n5eil01u.ecs.nsidc.org/SMAP/SPL4SMGP.004/2019.04.01/SMAP_L4_SM_gph_20190401T013000_Vv4030_001.h5\n",
      "URL for file 1:\n",
      "https://n5eil01u.ecs.nsidc.org/SMAP/SPL4SMGP.004/2019.08.30/SMAP_L4_SM_gph_20190830T013000_Vv4030_001.h5\n",
      "URL for file 2:\n",
      "https://n5eil01u.ecs.nsidc.org/SMAP/SPL4SMGP.004/2019.08.30/SMAP_L4_SM_gph_20190830T043000_Vv4030_001.h5\n",
      "URL for file 3:\n",
      "https://n5eil01u.ecs.nsidc.org/SMAP/SPL4SMGP.004/2019.08.30/SMAP_L4_SM_gph_20190830T073000_Vv4030_001.h5\n",
      "URL for file 4:\n",
      "https://n5eil01u.ecs.nsidc.org/SMAP/SPL4SMGP.004/2019.08.30/SMAP_L4_SM_gph_20190830T103000_Vv4030_001.h5\n",
      "URL for file 5:\n",
      "https://n5eil01u.ecs.nsidc.org/SMAP/SPL4SMGP.004/2019.08.30/SMAP_L4_SM_gph_20190830T133000_Vv4030_001.h5\n",
      "URL for file 6:\n",
      "https://n5eil01u.ecs.nsidc.org/SMAP/SPL4SMGP.004/2019.08.30/SMAP_L4_SM_gph_20190830T163000_Vv4030_001.h5\n",
      "URL for file 7:\n",
      "https://n5eil01u.ecs.nsidc.org/SMAP/SPL4SMGP.004/2019.08.30/SMAP_L4_SM_gph_20190830T193000_Vv4030_001.h5\n",
      "URL for file 8:\n",
      "https://n5eil01u.ecs.nsidc.org/SMAP/SPL4SMGP.004/2019.08.30/SMAP_L4_SM_gph_20190830T223000_Vv4030_001.h5\n",
      "URL for file 9:\n",
      "https://n5eil01u.ecs.nsidc.org/SMAP/SPL4SMGP.004/2019.08.31/SMAP_L4_SM_gph_20190831T013000_Vv4030_001.h5\n",
      "URL for file 10:\n",
      "https://n5eil01u.ecs.nsidc.org/SMAP/SPL4SMGP.004/2019.08.31/SMAP_L4_SM_gph_20190831T043000_Vv4030_001.h5\n",
      "URL for file 11:\n",
      "https://n5eil01u.ecs.nsidc.org/SMAP/SPL4SMGP.004/2019.08.31/SMAP_L4_SM_gph_20190831T073000_Vv4030_001.h5\n",
      "URL for file 12:\n",
      "https://n5eil01u.ecs.nsidc.org/SMAP/SPL4SMGP.004/2019.08.31/SMAP_L4_SM_gph_20190831T103000_Vv4030_001.h5\n",
      "URL for file 13:\n",
      "https://n5eil01u.ecs.nsidc.org/SMAP/SPL4SMGP.004/2019.08.31/SMAP_L4_SM_gph_20190831T133000_Vv4030_001.h5\n",
      "URL for file 14:\n",
      "https://n5eil01u.ecs.nsidc.org/SMAP/SPL4SMGP.004/2019.08.31/SMAP_L4_SM_gph_20190831T163000_Vv4030_001.h5\n",
      "URL for file 15:\n",
      "https://n5eil01u.ecs.nsidc.org/SMAP/SPL4SMGP.004/2019.08.31/SMAP_L4_SM_gph_20190831T193000_Vv4030_001.h5\n",
      "URL for file 16:\n",
      "https://n5eil01u.ecs.nsidc.org/SMAP/SPL4SMGP.004/2019.08.31/SMAP_L4_SM_gph_20190831T223000_Vv4030_001.h5\n"
     ]
    }
   ],
   "source": [
    "# Download files\n",
    "\n",
    "for index, URL in enumerate(URL_batch):\n",
    "    \n",
    "    print(\"URL for file \" + str(index) + \":\")\n",
    "    print(URL)\n"
   ]
  },
  {
   "cell_type": "code",
   "execution_count": null,
   "metadata": {},
   "outputs": [],
   "source": []
  }
 ],
 "metadata": {
  "kernelspec": {
   "display_name": "Python 3",
   "language": "python",
   "name": "python3"
  },
  "language_info": {
   "codemirror_mode": {
    "name": "ipython",
    "version": 3
   },
   "file_extension": ".py",
   "mimetype": "text/x-python",
   "name": "python",
   "nbconvert_exporter": "python",
   "pygments_lexer": "ipython3",
   "version": "3.7.3"
  }
 },
 "nbformat": 4,
 "nbformat_minor": 2
}
